{
 "cells": [
  {
   "cell_type": "markdown",
   "metadata": {},
   "source": [
    "# CALCULATION OF CLASSICAL ORBITAL ELEMENTS WITH TLE DATA"
   ]
  },
  {
   "cell_type": "markdown",
   "metadata": {},
   "source": [
    "# TLE_to_COE_and_t0 PYTHON CODE"
   ]
  },
  {
   "cell_type": "markdown",
   "metadata": {},
   "source": [
    "#1 25544U 98067A   18360.90043441  .00000834  00000-0  19881-4 0  9999\n",
    "#2 25544  51.6409 138.3193 0004560 186.2932 317.3191 15.54096287148488"
   ]
  },
  {
   "cell_type": "markdown",
   "metadata": {},
   "source": [
    "#Taking this TLE data or providing TLE's from space-track.org, you can use #below code for Python to find Classical Orbital  #Elements. You need to copy #TLE data and paste to a text file as a name 'tles'. And they both has to be in #same folder with the #code."
   ]
  },
  {
   "cell_type": "code",
   "execution_count": 1,
   "metadata": {},
   "outputs": [
    {
     "ename": "FileNotFoundError",
     "evalue": "[Errno 2] No such file or directory: 'tles.txt'",
     "output_type": "error",
     "traceback": [
      "\u001b[1;31m---------------------------------------------------------------------------\u001b[0m",
      "\u001b[1;31mFileNotFoundError\u001b[0m                         Traceback (most recent call last)",
      "\u001b[1;32m<ipython-input-1-f123dacec504>\u001b[0m in \u001b[0;36m<module>\u001b[1;34m\u001b[0m\n\u001b[0;32m    112\u001b[0m \u001b[1;33m\u001b[0m\u001b[0m\n\u001b[0;32m    113\u001b[0m \u001b[1;33m\u001b[0m\u001b[0m\n\u001b[1;32m--> 114\u001b[1;33m \u001b[0mTLE_to_COE_and_t0\u001b[0m\u001b[1;33m(\u001b[0m\u001b[1;33m)\u001b[0m\u001b[1;33m\u001b[0m\u001b[1;33m\u001b[0m\u001b[0m\n\u001b[0m",
      "\u001b[1;32m<ipython-input-1-f123dacec504>\u001b[0m in \u001b[0;36mTLE_to_COE_and_t0\u001b[1;34m()\u001b[0m\n\u001b[0;32m     32\u001b[0m     \u001b[1;31m#TLE verisinin ikinci satırı Line 2 cell array olarak okunur.\u001b[0m\u001b[1;33m\u001b[0m\u001b[1;33m\u001b[0m\u001b[1;33m\u001b[0m\u001b[0m\n\u001b[0;32m     33\u001b[0m \u001b[1;33m\u001b[0m\u001b[0m\n\u001b[1;32m---> 34\u001b[1;33m     \u001b[0mfileID\u001b[0m \u001b[1;33m=\u001b[0m \u001b[0mopen\u001b[0m\u001b[1;33m(\u001b[0m\u001b[1;34m'tles.txt'\u001b[0m\u001b[1;33m,\u001b[0m \u001b[1;34m'r'\u001b[0m\u001b[1;33m)\u001b[0m\u001b[1;33m\u001b[0m\u001b[1;33m\u001b[0m\u001b[0m\n\u001b[0m\u001b[0;32m     35\u001b[0m     \u001b[0mfileID\u001b[0m\u001b[1;33m.\u001b[0m\u001b[0mseek\u001b[0m\u001b[1;33m(\u001b[0m\u001b[1;36m18\u001b[0m\u001b[1;33m)\u001b[0m\u001b[1;33m\u001b[0m\u001b[1;33m\u001b[0m\u001b[0m\n\u001b[0;32m     36\u001b[0m     \u001b[0mepoch\u001b[0m \u001b[1;33m=\u001b[0m \u001b[0mfloat\u001b[0m\u001b[1;33m(\u001b[0m\u001b[0mfileID\u001b[0m\u001b[1;33m.\u001b[0m\u001b[0mread\u001b[0m\u001b[1;33m(\u001b[0m\u001b[1;36m5\u001b[0m\u001b[1;33m)\u001b[0m\u001b[1;33m)\u001b[0m\u001b[1;33m\u001b[0m\u001b[1;33m\u001b[0m\u001b[0m\n",
      "\u001b[1;31mFileNotFoundError\u001b[0m: [Errno 2] No such file or directory: 'tles.txt'"
     ]
    }
   ],
   "source": [
    "import numpy\n",
    "import math\n",
    "\n",
    "def TLE_to_COE_and_t0():\n",
    "      \n",
    "    #TLE_to_COE_and_t0 fonksiyonu TLE verisini içeren TLE dosyasını okur ve\n",
    "    #bu TLE verilerini klasik yörünge elemanlarına çevirir, başlangıç zamanı da.\n",
    "    \n",
    "    #Fonksiyonun çıktıları klasik yörünge elemanları (özgül açısal momentum,\n",
    "    #eğiklik, yükselme düğümü açısı, basıklık, perigee argümanı, doğru açıklık),\n",
    "    #TLE çağının yılı, TLE çağı için gün, gün fraksiyonu ile, ortalama açıklık ve\n",
    "    #ortalama hareket\n",
    "    #Output için, tüm açısal birimler radyan cinsindendir.\n",
    "    \n",
    "    #kye0             -TLE datanın klasik yörüge elemanları [h,i,Omega,e,omega,theta]\n",
    "    #year             -TLE çağının yılı\n",
    "    #day              -TLE çağı için gün, fraksiyonu ile birlikte\n",
    "    #Me               -TLE çağı için Ortalama açıklık\n",
    "    #n                -TLE çağı için Ortalama hareket\n",
    "    #Observation_Site -Doğu boylamı içeren, gözlem noktasının enlemi ve yüksekliği\n",
    "    #date             -Anlık tarih\n",
    "    #UT               -Anlık evrensel zaman (Universal time)\n",
    "    #EL               -Gözlem noktasının Doğu boylamı (derece)\n",
    "    #Lat              -Gözlem noktasının enlemi (derece)\n",
    "    #lstOS            -Gözlem noktasının yıldız zamanı (derece)\n",
    "    #H                -Gözlem noktasının yüksekliği (km)\n",
    "    \n",
    "    #TLE dosyası tle.txt okunması. Uygun bir tle.text dosyası oluşturmak için,\n",
    "    #space-track.org dan TLE verisi elde edin ve kopyalayın ve tle.text\n",
    "    #dosyasına yapıştırın.\n",
    "    #Aşağıdaki bölümde, TLE verisinin ilk satırı Line 1 cell array olarak okunur ve\n",
    "    #TLE verisinin ikinci satırı Line 2 cell array olarak okunur.\n",
    "\n",
    "    fileID = open('tles.txt', 'r')\n",
    "    fileID.seek(18)\n",
    "    epoch = float(fileID.read(5))\n",
    "    print ('epoch = ',epoch)\n",
    "    fileID.seek(40)\n",
    "    n0dot = 2.0*(float(fileID.read(3))/1000000)\n",
    "    print ('n0dot = ',n0dot)\n",
    "    fileID.seek(45)\n",
    "    n0doubledot1 = 6.0*(float(fileID.read(1)))\n",
    "    print ('n0doubledot1 = ',n0doubledot1)\n",
    "    fileID.seek(51)\n",
    "    n0doubledot2 = 10**float(fileID.read(1))\n",
    "    print ('n0doubledot2 = ',n0doubledot2)\n",
    "    n0doubledot = n0doubledot1*n0doubledot2\n",
    "    print ('n0doubledot = ',n0doubledot)\n",
    "    fileID.seek(54)\n",
    "    Bstar1 = float(fileID.read(5))\n",
    "    print ('Bstar1 = ',Bstar1)\n",
    "    fileID.seek(60)\n",
    "    Bstar2 = 10**(-float(fileID.read(1)))\n",
    "    print ('Bstar2 = ',Bstar2)\n",
    "    Bstar = Bstar1*Bstar2\n",
    "    print ('Bstar = ',Bstar)\n",
    "    fileID.seek(80)\n",
    "    i = float(fileID.read(7))*math.pi/180.0\n",
    "    print ('i = ',i)\n",
    "    fileID.seek(88)\n",
    "    Omega = (float(fileID.read(8)))*math.pi/180.0\n",
    "    print ('Omega = ',Omega)\n",
    "    fileID.seek(100)\n",
    "    e = (float(fileID.read(4)))/(10**7)\n",
    "    print ('e = ',e)\n",
    "    fileID.seek(105)\n",
    "    omega = (float(fileID.read(8)))*math.pi/180.0\n",
    "    print ('omega = ',omega)\n",
    "    fileID.seek(114)\n",
    "    Me = (float(fileID.read(8)))*math.pi/180.0\n",
    "    print ('Me = ',Me)\n",
    "    fileID.seek(123)\n",
    "    # Ortalama hareket, rad/s biriminde\n",
    "    n = (float(fileID.read(7)))*2.0*math.pi/(24.0*3600.0)\n",
    "    print ('n = ',n)\n",
    "\n",
    "    #Klasik yörünge elemanlarının bulunuşu, bunlar; h, i, Omega, e, omega ,theta\n",
    "    #TLE data çıktıları. i, Omega, e, omega TLE dosyasından okunabilir. h ve theta,\n",
    "    #n ve Me'ye göre bulunur.\n",
    "\n",
    "    #Kütleçekimsel parametre mu, km^3/s^2:\n",
    "    mu = 398600\n",
    "\n",
    "    #h'ın n'den elde edilişi:\n",
    "    h = (mu**2/n)**(1/3)*math.sqrt(1-e**2)\n",
    "    \n",
    "\n",
    "    #Kepler denklemini çözerek theta'nın Me'den elde edilişi:\n",
    "  \n",
    "    def f(E):\n",
    "            KeplerEqn = E - e*math.sin(E) - Me\n",
    "            return KeplerEqn\n",
    "    #Kepler denkleminin çözümü, başlangıç tahmini Pi.\n",
    "            E = fsolve(f,[math.pi])\n",
    "            \n",
    "            if math.tan(E/2.0)<0:\n",
    "                theta = 2.0*math.atan(math.sqrt((1+e)/(1-e))*math.tan(E/2.0)) + 2.0*math.pi;\n",
    "            else:\n",
    "                theta = 2.0*math.atan(math.sqrt((1+e)/(1-e))*math.tan(E/2.0));\n",
    "                #Klasik yörünge elemanları(kye). Ortalama hareketin birimi,\n",
    "                #rad/s ve bütün açılar radyan cinsinden.\n",
    "                kye = numpy.array([h, i, Omega, e, omega, theta])\n",
    "                print ('kye = ',kye)\n",
    "    #Çağ, Evrensel Zamanı tanımlar (Greenwich'teki güneş zamanı). Aşağıda, \n",
    "    #çağ yıla çevrilmiştir, yılın günü gün kesri ile\n",
    "    year = 2000 + (epoch - numpy.mod(epoch,1000))/1000\n",
    "    print ('year = ',year)\n",
    "    day = numpy.mod(epoch,1000)\n",
    "    print ('day = ',day)\n",
    "    \n",
    "    \n",
    "        \n",
    "    \n",
    "TLE_to_COE_and_t0()\n"
   ]
  },
  {
   "cell_type": "code",
   "execution_count": null,
   "metadata": {},
   "outputs": [],
   "source": []
  }
 ],
 "metadata": {
  "kernelspec": {
   "display_name": "Python 3",
   "language": "python",
   "name": "python3"
  },
  "language_info": {
   "codemirror_mode": {
    "name": "ipython",
    "version": 3
   },
   "file_extension": ".py",
   "mimetype": "text/x-python",
   "name": "python",
   "nbconvert_exporter": "python",
   "pygments_lexer": "ipython3",
   "version": "3.7.3"
  }
 },
 "nbformat": 4,
 "nbformat_minor": 2
}
